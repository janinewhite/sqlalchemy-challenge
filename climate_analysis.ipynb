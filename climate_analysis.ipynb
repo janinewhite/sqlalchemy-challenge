{
 "cells": [
  {
   "cell_type": "code",
   "execution_count": 1,
   "metadata": {
    "ExecuteTime": {
     "end_time": "2019-10-28T03:42:25.849496Z",
     "start_time": "2019-10-28T03:42:24.763387Z"
    }
   },
   "outputs": [],
   "source": [
    "# Constants\n",
    "db_path = \"sqlite:///Instructions/Resources/hawaii.sqlite\"\n",
    "separator = \"-----------\"\n",
    "\n",
    "# Dependencies\n",
    "%matplotlib inline\n",
    "from matplotlib import style\n",
    "style.use('fivethirtyeight')\n",
    "import matplotlib.pyplot as plt\n",
    "import pandas as pd\n",
    "import datetime as dt\n",
    "import sqlalchemy\n",
    "from sqlalchemy.ext.automap import automap_base\n",
    "from sqlalchemy.orm import Session\n",
    "from sqlalchemy import create_engine, inspect, func, desc, select"
   ]
  },
  {
   "cell_type": "code",
   "execution_count": 2,
   "metadata": {
    "ExecuteTime": {
     "end_time": "2019-10-28T03:42:25.899338Z",
     "start_time": "2019-10-28T03:42:25.850481Z"
    }
   },
   "outputs": [
    {
     "name": "stdout",
     "output_type": "stream",
     "text": [
      "['measurement', 'station']\n"
     ]
    }
   ],
   "source": [
    "#Connect to db\n",
    "engine = create_engine(db_path)\n",
    "Base = automap_base()\n",
    "Base.prepare(engine, reflect=True)\n",
    "print(Base.classes.keys())\n",
    "# Save references to each table\n",
    "Measurement = Base.classes.measurement\n",
    "Station = Base.classes.station\n",
    "# Create session (link) from Python to the DB\n",
    "session = Session(engine)"
   ]
  },
  {
   "cell_type": "code",
   "execution_count": 3,
   "metadata": {
    "ExecuteTime": {
     "end_time": "2019-10-28T03:42:25.913269Z",
     "start_time": "2019-10-28T03:42:25.900337Z"
    }
   },
   "outputs": [
    {
     "name": "stdout",
     "output_type": "stream",
     "text": [
      "-----------\n",
      "measurement\n",
      "-----------\n",
      "id INTEGER\n",
      "station TEXT\n",
      "date TEXT\n",
      "prcp FLOAT\n",
      "tobs FLOAT\n",
      "-----------\n",
      "station\n",
      "-----------\n",
      "id INTEGER\n",
      "station TEXT\n",
      "name TEXT\n",
      "latitude FLOAT\n",
      "longitude FLOAT\n",
      "elevation FLOAT\n",
      "-----------\n"
     ]
    }
   ],
   "source": [
    "# Inspect tables\n",
    "inspector = inspect(engine)\n",
    "inspector.get_table_names()\n",
    "keys = Base.classes.keys()\n",
    "print(separator)\n",
    "for key in keys:\n",
    "    print(key)\n",
    "    print(separator)\n",
    "    columns = inspector.get_columns(key)\n",
    "    for c in columns:\n",
    "        print(c['name'], c[\"type\"])\n",
    "    print(separator)"
   ]
  },
  {
   "cell_type": "code",
   "execution_count": 4,
   "metadata": {
    "ExecuteTime": {
     "end_time": "2019-10-28T03:42:25.918257Z",
     "start_time": "2019-10-28T03:42:25.914267Z"
    }
   },
   "outputs": [],
   "source": [
    "def string_to_date(text):\n",
    "    return dt.datetime(int(text[:4]),int(text[5:7]),int(text[8:]))"
   ]
  },
  {
   "cell_type": "code",
   "execution_count": 5,
   "metadata": {
    "ExecuteTime": {
     "end_time": "2019-10-28T03:42:25.938230Z",
     "start_time": "2019-10-28T03:42:25.919286Z"
    }
   },
   "outputs": [
    {
     "name": "stdout",
     "output_type": "stream",
     "text": [
      "Retrieve all measurements:\n",
      "SELECT measurement.date, measurement.prcp AS precipitation, measurement.station, measurement.tobs AS temperature \n",
      "FROM measurement\n",
      "\n",
      "Last 12 Months Precipitation, Query Dates: 2016-08-23 to 2017-08-23\n",
      "SELECT measurement.date, measurement.prcp AS precipitation, measurement.station \n",
      "FROM measurement \n",
      "WHERE measurement.date >= :date_1\n",
      "\n",
      "List Stations:\n",
      "SELECT station.id, station.station, station.name, station.latitude, station.longitude, station.elevation \n",
      "FROM station\n",
      "\n",
      "Count number of stations:\n",
      "SELECT count(id) AS tbl_row_count \n",
      "FROM (SELECT station.id AS id \n",
      "FROM station)\n",
      "\n",
      "Order the stations by the number of measruements in descending order:\n",
      "SELECT measurement.station, count(measurement.id) AS measurements \n",
      "FROM measurement GROUP BY measurement.station ORDER BY measurements DESC\n"
     ]
    },
    {
     "name": "stderr",
     "output_type": "stream",
     "text": [
      "C:\\ProgramData\\Anaconda3\\lib\\site-packages\\ipykernel_launcher.py:30: SADeprecationWarning: The FromClause.count() method is deprecated, and will be removed in a future release.   Please use the functions.count function available from the func namespace.\n"
     ]
    }
   ],
   "source": [
    "# Define Queries\n",
    "\n",
    "# Define query to retrieve all measurement data\n",
    "all_measurements = select([Measurement.date,\\\n",
    "                           Measurement.prcp.label('precipitation'),\\\n",
    "                           Measurement.station,\\\n",
    "                           Measurement.tobs.label('temperature')])\n",
    "print(\"Retrieve all measurements:\")\n",
    "print(all_measurements)\n",
    "\n",
    "# Define query to retrieve the date and precipitation scores from measurment the last 12 months\n",
    "max_date = engine.execute('SELECT MAX(date) FROM measurement').fetchall()\n",
    "last_date = string_to_date(max_date[0][0])\n",
    "first_date = last_date - dt.timedelta(days=365)\n",
    "short_first_date = str(first_date)[:10]\n",
    "short_last_date = str(last_date)[:10]\n",
    "print(f\"\\nLast 12 Months Precipitation, Query Dates: {short_first_date} to {short_last_date}\")\n",
    "precipitation = select([Measurement.date,\n",
    "                        Measurement.prcp.label('precipitation'),\\\n",
    "                        Measurement.station])\\\n",
    ".where(Measurement.date >= short_first_date)\n",
    "print(precipitation)\n",
    "\n",
    "# Define query to list stations\n",
    "list_stations = select([Station])\n",
    "print(f\"\\nList Stations:\")\n",
    "print(list_stations)\n",
    "\n",
    "# Define query to count the number of stations\n",
    "station_count = select([Station.id]).count()\n",
    "print(\"\\nCount number of stations:\")\n",
    "print(station_count)\n",
    "\n",
    "# Define query to determine which stations take the most measurements\n",
    "station_activity = select([Measurement.station,\\\n",
    "                           func.count(Measurement.id).label('measurements')])\\\n",
    ".group_by(\"station\")\\\n",
    ".order_by(desc(\"measurements\"))\n",
    "print(\"\\nOrder the stations by the number of measruements in descending order:\")\n",
    "print(station_activity)"
   ]
  },
  {
   "cell_type": "code",
   "execution_count": 6,
   "metadata": {
    "ExecuteTime": {
     "end_time": "2019-10-28T03:42:26.033947Z",
     "start_time": "2019-10-28T03:42:25.939201Z"
    }
   },
   "outputs": [
    {
     "name": "stdout",
     "output_type": "stream",
     "text": [
      "         date  precipitation      station  temperature\n",
      "0  2010-01-01           0.08  USC00519397         65.0\n",
      "1  2010-01-02           0.00  USC00519397         63.0\n",
      "2  2010-01-03           0.00  USC00519397         74.0\n",
      "3  2010-01-04           0.00  USC00519397         76.0\n",
      "4  2010-01-06            NaN  USC00519397         73.0\n",
      "\n",
      "         date  precipitation      station\n",
      "0  2016-08-23           0.00  USC00519397\n",
      "1  2016-08-24           0.08  USC00519397\n",
      "2  2016-08-25           0.08  USC00519397\n",
      "3  2016-08-26           0.00  USC00519397\n",
      "4  2016-08-27           0.00  USC00519397\n",
      "\n",
      "   id      station                                    name  latitude  \\\n",
      "0   1  USC00519397                    WAIKIKI 717.2, HI US  21.27160   \n",
      "1   2  USC00513117                    KANEOHE 838.1, HI US  21.42340   \n",
      "2   3  USC00514830  KUALOA RANCH HEADQUARTERS 886.9, HI US  21.52130   \n",
      "3   4  USC00517948                       PEARL CITY, HI US  21.39340   \n",
      "4   5  USC00518838              UPPER WAHIAWA 874.3, HI US  21.49920   \n",
      "5   6  USC00519523      WAIMANALO EXPERIMENTAL FARM, HI US  21.33556   \n",
      "6   7  USC00519281                     WAIHEE 837.5, HI US  21.45167   \n",
      "7   8  USC00511918       HONOLULU OBSERVATORY 702.2, HI US  21.31520   \n",
      "8   9  USC00516128            MANOA LYON ARBO 785.2, HI US  21.33310   \n",
      "\n",
      "   longitude  elevation  \n",
      "0 -157.81680        3.0  \n",
      "1 -157.80150       14.6  \n",
      "2 -157.83740        7.0  \n",
      "3 -157.97510       11.9  \n",
      "4 -158.01110      306.6  \n",
      "5 -157.71139       19.5  \n",
      "6 -157.84889       32.9  \n",
      "7 -157.99920        0.9  \n",
      "8 -157.80250      152.4  \n",
      "\n",
      "   tbl_row_count\n",
      "0              9\n",
      "\n",
      "       station  measurements\n",
      "0  USC00519281          2772\n",
      "1  USC00519397          2724\n",
      "2  USC00513117          2709\n",
      "3  USC00519523          2669\n",
      "4  USC00516128          2612\n"
     ]
    }
   ],
   "source": [
    "# Save the query results as Pandas DataFrames and verify data structures returned\n",
    "conn = engine.connect()\n",
    "all_measures = pd.read_sql(all_measurements,conn)\n",
    "print(all_measures.head())\n",
    "print()\n",
    "year_of_precipitation = pd.read_sql(precipitation,conn)\n",
    "print(year_of_precipitation.head())\n",
    "print()\n",
    "stationsdf = pd.read_sql(list_stations,conn)\n",
    "print(stationsdf)\n",
    "print()\n",
    "num_stations = pd.read_sql(station_count,conn)\n",
    "print(num_stations.head())\n",
    "print()\n",
    "station_measurements = pd.read_sql(station_activity,conn)\n",
    "print(station_measurements.head())"
   ]
  },
  {
   "cell_type": "code",
   "execution_count": 7,
   "metadata": {
    "ExecuteTime": {
     "end_time": "2019-10-28T03:42:26.675232Z",
     "start_time": "2019-10-28T03:42:26.034977Z"
    }
   },
   "outputs": [
    {
     "name": "stdout",
     "output_type": "stream",
     "text": [
      "\n",
      "Last 12 Months Precipitation Summary Statistics:\n",
      "       precipitation\n",
      "count    2021.000000\n",
      "mean        0.177279\n",
      "std         0.461190\n",
      "min         0.000000\n",
      "25%         0.000000\n",
      "50%         0.020000\n",
      "75%         0.130000\n",
      "max         6.700000\n"
     ]
    },
    {
     "data": {
      "text/plain": [
       "<matplotlib.axes._subplots.AxesSubplot at 0x21f0293c828>"
      ]
     },
     "execution_count": 7,
     "metadata": {},
     "output_type": "execute_result"
    },
    {
     "data": {
      "image/png": "[encoded data removed]",
      "text/plain": [
       "<Figure size 864x576 with 1 Axes>"
      ]
     },
     "metadata": {
      "needs_background": "light"
     },
     "output_type": "display_data"
    }
   ],
   "source": [
    "# Precipitation Analysis\n",
    "\n",
    "print(\"\\nLast 12 Months Precipitation Summary Statistics:\")\n",
    "print(year_of_precipitation.describe())\n",
    "\n",
    "year_of_precipitation.sort_values(\"date\",inplace=True)\n",
    "year_of_precipitation[\"date\"] = pd.to_datetime(year_of_precipitation[\"date\"])\n",
    "year_of_precipitation[\"precipitation\"] = year_of_precipitation[\"precipitation\"].astype(float)\n",
    "df = year_of_precipitation.groupby(['date','station']).sum().unstack('station')\n",
    "df.columns = df.columns.droplevel()\n",
    "df.plot(figsize=(12,8),stacked=False,title=\"Precipitation Last 12 Months by Station\")"
   ]
  },
  {
   "cell_type": "code",
   "execution_count": 8,
   "metadata": {
    "ExecuteTime": {
     "end_time": "2019-10-28T03:42:26.849180Z",
     "start_time": "2019-10-28T03:42:26.678224Z"
    }
   },
   "outputs": [
    {
     "name": "stdout",
     "output_type": "stream",
     "text": [
      "Number of Stations: 9\n",
      "\n",
      "Stations in order of descending activity:\n",
      "             measurements\n",
      "station                  \n",
      "USC00519281          2772\n",
      "USC00519397          2724\n",
      "USC00513117          2709\n",
      "USC00519523          2669\n",
      "USC00516128          2612\n",
      "USC00514830          2202\n",
      "USC00511918          1979\n",
      "USC00517948          1372\n",
      "USC00518838           511\n",
      "\n",
      "Most Active Station: USC00519281\n",
      "\n",
      "Most Active Station Temperature Statistics:\n",
      "Lowest Temperature: 54.0\n",
      "Highest Temperature: 85.0\n",
      "Average Temperature: 71.66\n"
     ]
    },
    {
     "data": {
      "text/plain": [
       "<function matplotlib.pyplot.show(*args, **kw)>"
      ]
     },
     "execution_count": 8,
     "metadata": {},
     "output_type": "execute_result"
    },
    {
     "data": {
      "image/png": "[encoded data removed]",
      "text/plain": [
       "<Figure size 432x288 with 1 Axes>"
      ]
     },
     "metadata": {
      "needs_background": "light"
     },
     "output_type": "display_data"
    }
   ],
   "source": [
    "# Station Analysis\n",
    "\n",
    "print(f\"Number of Stations: {num_stations.iloc[0,0]}\")\n",
    "\n",
    "print(\"\\nStations in order of descending activity:\")\n",
    "pretty_station_measurements = station_measurements.set_index(\"station\")\n",
    "print(pretty_station_measurements)\n",
    "\n",
    "most_active_station = station_measurements[\"station\"][0]\n",
    "print(f\"\\nMost Active Station: {most_active_station}\")\n",
    "\n",
    "print(\"\\nMost Active Station Temperature Statistics:\")\n",
    "most_active_station_measurements = all_measures.loc[all_measures[\"station\"]==most_active_station]\n",
    "most_active_station_lowest_temp = most_active_station_measurements[\"temperature\"].min()\n",
    "print(f\"Lowest Temperature: {most_active_station_lowest_temp}\")\n",
    "most_active_station_highest_temp = most_active_station_measurements[\"temperature\"].max()\n",
    "print(f\"Highest Temperature: {most_active_station_highest_temp}\")\n",
    "most_active_station_avg_temp = most_active_station_measurements[\"temperature\"].mean()\n",
    "print(f\"Average Temperature: {round(most_active_station_avg_temp,2)}\")\n",
    "\n",
    "# Histogram of most active station measurements in the last year\n",
    "max_measurement = station_measurements[\"measurements\"].max()\n",
    "most_active_station = station_measurements.loc[station_measurements[\"measurements\"]==max_measurement].copy().iloc[0,0]\n",
    "most_active_temps_df = all_measures.loc[(all_measures[\"station\"]==most_active_station) & (all_measures[\"date\"] >= short_first_date)]\n",
    "plt.hist(most_active_temps_df.temperature,bins=12)\n",
    "plt.xlabel('Temperature')\n",
    "plt.ylabel('Frequency')\n",
    "plt.title(f\"Temperature Observations at {most_active_station} in the Last Year\")\n",
    "plt.show"
   ]
  },
  {
   "cell_type": "code",
   "execution_count": 9,
   "metadata": {
    "ExecuteTime": {
     "end_time": "2019-10-28T03:42:26.862110Z",
     "start_time": "2019-10-28T03:42:26.850140Z"
    }
   },
   "outputs": [
    {
     "name": "stdout",
     "output_type": "stream",
     "text": [
      "[(62.0, 69.57142857142857, 74.0)]\n"
     ]
    }
   ],
   "source": [
    "# This function called `calc_temps` will accept start date and end date in the format '%Y-%m-%d' \n",
    "# and return the minimum, average, and maximum temperatures for that range of dates\n",
    "def calc_temps(start_date, end_date):\n",
    "    \"\"\"TMIN, TAVG, and TMAX for a list of dates.\n",
    "    \n",
    "    Args:\n",
    "        start_date (string): A date string in the format %Y-%m-%d\n",
    "        end_date (string): A date string in the format %Y-%m-%d\n",
    "        \n",
    "    Returns:\n",
    "        TMIN, TAVE, and TMAX\n",
    "    \"\"\"\n",
    "    \n",
    "    return session.query(func.min(Measurement.tobs), func.avg(Measurement.tobs), func.max(Measurement.tobs)).\\\n",
    "        filter(Measurement.date >= start_date).filter(Measurement.date <= end_date).all()\n",
    "\n",
    "# function usage example\n",
    "print(calc_temps('2012-02-28', '2012-03-05'))"
   ]
  },
  {
   "cell_type": "code",
   "execution_count": 10,
   "metadata": {
    "ExecuteTime": {
     "end_time": "2019-10-28T03:42:26.874110Z",
     "start_time": "2019-10-28T03:42:26.863107Z"
    }
   },
   "outputs": [
    {
     "name": "stdout",
     "output_type": "stream",
     "text": [
      "58.0\n",
      "74.58\n",
      "87.0\n"
     ]
    }
   ],
   "source": [
    "# Use your previous function `calc_temps` to calculate the tmin, tavg, and tmax \n",
    "# for your trip using the previous year's data for those same dates.\n",
    "temp_stats = calc_temps(first_date, last_date)\n",
    "min_temp = temp_stats[0][0]\n",
    "ave_temp = round(temp_stats[0][1],2)\n",
    "max_temp = temp_stats[0][2]\n",
    "print(min_temp)\n",
    "print(ave_temp)\n",
    "print(max_temp)"
   ]
  },
  {
   "cell_type": "code",
   "execution_count": 11,
   "metadata": {
    "ExecuteTime": {
     "end_time": "2019-10-28T03:42:26.962840Z",
     "start_time": "2019-10-28T03:42:26.875107Z"
    }
   },
   "outputs": [
    {
     "data": {
      "image/png": "[encoded data removed]",
      "text/plain": [
       "<Figure size 432x288 with 1 Axes>"
      ]
     },
     "metadata": {
      "needs_background": "light"
     },
     "output_type": "display_data"
    }
   ],
   "source": [
    "# Plot the results from your previous query as a bar chart. \n",
    "# Use \"Trip Avg Temp\" as your Title\n",
    "# Use the average temperature for the y value\n",
    "# Use the peak-to-peak (tmax-tmin) value as the y error bar (yerr)\n",
    "plt.bar([\"Trip\"],temp_stats[0][1],yerr=(max_temp - min_temp)/2)\n",
    "plt.ylabel(\"Temperature (F)\")\n",
    "plt.title(\"Trip Avg Temp\")\n",
    "plt.show()"
   ]
  },
  {
   "cell_type": "code",
   "execution_count": 12,
   "metadata": {
    "ExecuteTime": {
     "end_time": "2019-10-28T03:42:26.988771Z",
     "start_time": "2019-10-28T03:42:26.963877Z"
    }
   },
   "outputs": [
    {
     "data": {
      "text/html": [
       "<div>\n",
       "<style scoped>\n",
       "    .dataframe tbody tr th:only-of-type {\n",
       "        vertical-align: middle;\n",
       "    }\n",
       "\n",
       "    .dataframe tbody tr th {\n",
       "        vertical-align: top;\n",
       "    }\n",
       "\n",
       "    .dataframe thead th {\n",
       "        text-align: right;\n",
       "    }\n",
       "</style>\n",
       "<table border=\"1\" class=\"dataframe\">\n",
       "  <thead>\n",
       "    <tr style=\"text-align: right;\">\n",
       "      <th></th>\n",
       "      <th></th>\n",
       "      <th></th>\n",
       "      <th></th>\n",
       "      <th></th>\n",
       "      <th>precipitation</th>\n",
       "    </tr>\n",
       "    <tr>\n",
       "      <th>station</th>\n",
       "      <th>name</th>\n",
       "      <th>latitude</th>\n",
       "      <th>longitude</th>\n",
       "      <th>elevation</th>\n",
       "      <th></th>\n",
       "    </tr>\n",
       "  </thead>\n",
       "  <tbody>\n",
       "    <tr>\n",
       "      <th>USC00516128</th>\n",
       "      <th>MANOA LYON ARBO 785.2, HI US</th>\n",
       "      <th>21.33310</th>\n",
       "      <th>-157.80250</th>\n",
       "      <th>152.4</th>\n",
       "      <td>147.81</td>\n",
       "    </tr>\n",
       "    <tr>\n",
       "      <th>USC00519281</th>\n",
       "      <th>WAIHEE 837.5, HI US</th>\n",
       "      <th>21.45167</th>\n",
       "      <th>-157.84889</th>\n",
       "      <th>32.9</th>\n",
       "      <td>70.03</td>\n",
       "    </tr>\n",
       "    <tr>\n",
       "      <th>USC00513117</th>\n",
       "      <th>KANEOHE 838.1, HI US</th>\n",
       "      <th>21.42340</th>\n",
       "      <th>-157.80150</th>\n",
       "      <th>14.6</th>\n",
       "      <td>48.51</td>\n",
       "    </tr>\n",
       "    <tr>\n",
       "      <th>USC00519523</th>\n",
       "      <th>WAIMANALO EXPERIMENTAL FARM, HI US</th>\n",
       "      <th>21.33556</th>\n",
       "      <th>-157.71139</th>\n",
       "      <th>19.5</th>\n",
       "      <td>38.01</td>\n",
       "    </tr>\n",
       "    <tr>\n",
       "      <th>USC00514830</th>\n",
       "      <th>KUALOA RANCH HEADQUARTERS 886.9, HI US</th>\n",
       "      <th>21.52130</th>\n",
       "      <th>-157.83740</th>\n",
       "      <th>7.0</th>\n",
       "      <td>33.24</td>\n",
       "    </tr>\n",
       "    <tr>\n",
       "      <th>USC00519397</th>\n",
       "      <th>WAIKIKI 717.2, HI US</th>\n",
       "      <th>21.27160</th>\n",
       "      <th>-157.81680</th>\n",
       "      <th>3.0</th>\n",
       "      <td>16.09</td>\n",
       "    </tr>\n",
       "    <tr>\n",
       "      <th>USC00517948</th>\n",
       "      <th>PEARL CITY, HI US</th>\n",
       "      <th>21.39340</th>\n",
       "      <th>-157.97510</th>\n",
       "      <th>11.9</th>\n",
       "      <td>4.59</td>\n",
       "    </tr>\n",
       "  </tbody>\n",
       "</table>\n",
       "</div>"
      ],
      "text/plain": [
       "                                                                                  precipitation\n",
       "station     name                                   latitude longitude  elevation               \n",
       "USC00516128 MANOA LYON ARBO 785.2, HI US           21.33310 -157.80250 152.4             147.81\n",
       "USC00519281 WAIHEE 837.5, HI US                    21.45167 -157.84889 32.9               70.03\n",
       "USC00513117 KANEOHE 838.1, HI US                   21.42340 -157.80150 14.6               48.51\n",
       "USC00519523 WAIMANALO EXPERIMENTAL FARM, HI US     21.33556 -157.71139 19.5               38.01\n",
       "USC00514830 KUALOA RANCH HEADQUARTERS 886.9, HI US 21.52130 -157.83740 7.0                33.24\n",
       "USC00519397 WAIKIKI 717.2, HI US                   21.27160 -157.81680 3.0                16.09\n",
       "USC00517948 PEARL CITY, HI US                      21.39340 -157.97510 11.9                4.59"
      ]
     },
     "execution_count": 12,
     "metadata": {},
     "output_type": "execute_result"
    }
   ],
   "source": [
    "# Calculate the total amount of rainfall per weather station for your trip dates using the previous year's matching dates.\n",
    "# Sort this in descending order by precipitation amount and list the station, name, latitude, longitude, and elevation\n",
    "\n",
    "measures_with_stations = pd.merge(year_of_precipitation,stationsdf,on='station',how='left')\n",
    "measures_with_stations.head()\n",
    "measures_with_stations.drop(columns=['id'],inplace=True)\n",
    "precipitation_per_station = measures_with_stations.groupby(['station','name','latitude','longitude','elevation']).sum().copy()\n",
    "precipitation_per_station.sort_values(by=['precipitation'],ascending=False,inplace=True)\n",
    "precipitation_per_station"
   ]
  },
  {
   "cell_type": "code",
   "execution_count": 13,
   "metadata": {
    "ExecuteTime": {
     "end_time": "2019-10-28T03:42:26.993757Z",
     "start_time": "2019-10-28T03:42:26.989797Z"
    }
   },
   "outputs": [],
   "source": [
    "session.close()"
   ]
  },
  {
   "cell_type": "code",
   "execution_count": null,
   "metadata": {},
   "outputs": [],
   "source": []
  }
 ],
 "metadata": {
  "kernel_info": {
   "name": "python3"
  },
  "kernelspec": {
   "display_name": "Python 3",
   "language": "python",
   "name": "python3"
  },
  "language_info": {
   "codemirror_mode": {
    "name": "ipython",
    "version": 3
   },
   "file_extension": ".py",
   "mimetype": "text/x-python",
   "name": "python",
   "nbconvert_exporter": "python",
   "pygments_lexer": "ipython3",
   "version": "3.7.3"
  },
  "nteract": {
   "version": "0.12.3"
  },
  "varInspector": {
   "cols": {
    "lenName": 16,
    "lenType": 16,
    "lenVar": 40
   },
   "kernels_config": {
    "python": {
     "delete_cmd_postfix": "",
     "delete_cmd_prefix": "del ",
     "library": "var_list.py",
     "varRefreshCmd": "print(var_dic_list())"
    },
    "r": {
     "delete_cmd_postfix": ") ",
     "delete_cmd_prefix": "rm(",
     "library": "var_list.r",
     "varRefreshCmd": "cat(var_dic_list()) "
    }
   },
   "types_to_exclude": [
    "module",
    "function",
    "builtin_function_or_method",
    "instance",
    "_Feature"
   ],
   "window_display": false
  }
 },
 "nbformat": 4,
 "nbformat_minor": 2
}
